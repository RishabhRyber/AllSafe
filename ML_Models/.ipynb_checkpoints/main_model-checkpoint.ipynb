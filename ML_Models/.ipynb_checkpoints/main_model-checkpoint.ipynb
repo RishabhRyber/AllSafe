{
 "cells": [
  {
   "cell_type": "code",
   "execution_count": 18,
   "metadata": {},
   "outputs": [],
   "source": [
    "import numpy as np\n",
    "import pandas as pd\n",
    "from bs4 import BeautifulSoup\n",
    "from sklearn.feature_extraction.text import CountVectorizer\n",
    "from sklearn.model_selection import train_test_split\n",
    "from sklearn.naive_bayes import GaussianNB,MultinomialNB\n",
    "from sklearn.metrics import confusion_matrix\n",
    "from sklearn.metrics import classification_report\n",
    "from nltk.stem import PorterStemmer\n",
    "from nltk.tokenize import word_tokenize\n",
    "import pickle"
   ]
  },
  {
   "cell_type": "code",
   "execution_count": 2,
   "metadata": {},
   "outputs": [
    {
     "data": {
      "text/html": [
       "<div>\n",
       "<style scoped>\n",
       "    .dataframe tbody tr th:only-of-type {\n",
       "        vertical-align: middle;\n",
       "    }\n",
       "\n",
       "    .dataframe tbody tr th {\n",
       "        vertical-align: top;\n",
       "    }\n",
       "\n",
       "    .dataframe thead th {\n",
       "        text-align: right;\n",
       "    }\n",
       "</style>\n",
       "<table border=\"1\" class=\"dataframe\">\n",
       "  <thead>\n",
       "    <tr style=\"text-align: right;\">\n",
       "      <th></th>\n",
       "      <th>userid</th>\n",
       "      <th>post</th>\n",
       "      <th>ques</th>\n",
       "      <th>ans</th>\n",
       "      <th>asker</th>\n",
       "      <th>ans1</th>\n",
       "      <th>severity1</th>\n",
       "      <th>bully1</th>\n",
       "      <th>ans2</th>\n",
       "      <th>severity2</th>\n",
       "      <th>bully2</th>\n",
       "      <th>ans3</th>\n",
       "      <th>severity3</th>\n",
       "      <th>bully3</th>\n",
       "    </tr>\n",
       "  </thead>\n",
       "  <tbody>\n",
       "    <tr>\n",
       "      <td>0</td>\n",
       "      <td>aguitarplayer94</td>\n",
       "      <td>Q: what&amp;#039;s your favorite song? :D&lt;br&gt;A: I ...</td>\n",
       "      <td>what&amp;#039;s your favorite song? :D&lt;br&gt;</td>\n",
       "      <td>I like too many songs to have a favorite</td>\n",
       "      <td>None</td>\n",
       "      <td>No</td>\n",
       "      <td>0</td>\n",
       "      <td>NaN</td>\n",
       "      <td>No</td>\n",
       "      <td>0</td>\n",
       "      <td>NaN</td>\n",
       "      <td>No</td>\n",
       "      <td>0</td>\n",
       "      <td>NaN</td>\n",
       "    </tr>\n",
       "    <tr>\n",
       "      <td>1</td>\n",
       "      <td>aprilpooh15</td>\n",
       "      <td>Q: &lt;3&lt;br&gt;A: &lt;/3 ? haha jk! &lt;33</td>\n",
       "      <td>&lt;3</td>\n",
       "      <td>&lt;/3 ? haha jk! &lt;33</td>\n",
       "      <td>None</td>\n",
       "      <td>No</td>\n",
       "      <td>0</td>\n",
       "      <td>NaN</td>\n",
       "      <td>No</td>\n",
       "      <td>0</td>\n",
       "      <td>NaN</td>\n",
       "      <td>No</td>\n",
       "      <td>0</td>\n",
       "      <td>NaN</td>\n",
       "    </tr>\n",
       "    <tr>\n",
       "      <td>2</td>\n",
       "      <td>aprilpooh15</td>\n",
       "      <td>Q: &amp;quot;hey angel  you duh sexy&amp;quot;&lt;br&gt;A: R...</td>\n",
       "      <td>&amp;quot;hey angel  you duh sexy&amp;quot;</td>\n",
       "      <td>Really?!?! Thanks?! haha</td>\n",
       "      <td>None</td>\n",
       "      <td>No</td>\n",
       "      <td>0</td>\n",
       "      <td>NaN</td>\n",
       "      <td>No</td>\n",
       "      <td>0</td>\n",
       "      <td>NaN</td>\n",
       "      <td>No</td>\n",
       "      <td>0</td>\n",
       "      <td>NaN</td>\n",
       "    </tr>\n",
       "    <tr>\n",
       "      <td>3</td>\n",
       "      <td>aprilpooh15</td>\n",
       "      <td>Q: (:&lt;br&gt;A: ;(</td>\n",
       "      <td>(:</td>\n",
       "      <td>;(</td>\n",
       "      <td>None</td>\n",
       "      <td>No</td>\n",
       "      <td>0</td>\n",
       "      <td>NaN</td>\n",
       "      <td>No</td>\n",
       "      <td>0</td>\n",
       "      <td>NaN</td>\n",
       "      <td>No</td>\n",
       "      <td>0</td>\n",
       "      <td>NaN</td>\n",
       "    </tr>\n",
       "    <tr>\n",
       "      <td>4</td>\n",
       "      <td>aprilpooh15</td>\n",
       "      <td>Q: ******************MEOWWW*******************...</td>\n",
       "      <td>******************MEOWWW*************************</td>\n",
       "      <td>*RAWR*?</td>\n",
       "      <td>None</td>\n",
       "      <td>No</td>\n",
       "      <td>0</td>\n",
       "      <td>NaN</td>\n",
       "      <td>No</td>\n",
       "      <td>0</td>\n",
       "      <td>NaN</td>\n",
       "      <td>No</td>\n",
       "      <td>0</td>\n",
       "      <td>NaN</td>\n",
       "    </tr>\n",
       "  </tbody>\n",
       "</table>\n",
       "</div>"
      ],
      "text/plain": [
       "            userid                                               post  \\\n",
       "0  aguitarplayer94  Q: what&#039;s your favorite song? :D<br>A: I ...   \n",
       "1      aprilpooh15                     Q: <3<br>A: </3 ? haha jk! <33   \n",
       "2      aprilpooh15  Q: &quot;hey angel  you duh sexy&quot;<br>A: R...   \n",
       "3      aprilpooh15                                     Q: (:<br>A: ;(   \n",
       "4      aprilpooh15  Q: ******************MEOWWW*******************...   \n",
       "\n",
       "                                                ques  \\\n",
       "0             what&#039;s your favorite song? :D<br>   \n",
       "1                                                 <3   \n",
       "2                &quot;hey angel  you duh sexy&quot;   \n",
       "3                                                 (:   \n",
       "4  ******************MEOWWW*************************   \n",
       "\n",
       "                                         ans asker ans1 severity1 bully1 ans2  \\\n",
       "0   I like too many songs to have a favorite  None   No         0    NaN   No   \n",
       "1                         </3 ? haha jk! <33  None   No         0    NaN   No   \n",
       "2                   Really?!?! Thanks?! haha  None   No         0    NaN   No   \n",
       "3                                         ;(  None   No         0    NaN   No   \n",
       "4                                    *RAWR*?  None   No         0    NaN   No   \n",
       "\n",
       "  severity2 bully2 ans3 severity3 bully3  \n",
       "0         0    NaN   No         0    NaN  \n",
       "1         0    NaN   No         0    NaN  \n",
       "2         0    NaN   No         0    NaN  \n",
       "3         0    NaN   No         0    NaN  \n",
       "4         0    NaN   No         0    NaN  "
      ]
     },
     "execution_count": 2,
     "metadata": {},
     "output_type": "execute_result"
    }
   ],
   "source": [
    "doc=pd.read_csv(\"../Datasets/formspring_data.csv\",sep=\"\\t\")\n",
    "doc.head()"
   ]
  },
  {
   "cell_type": "code",
   "execution_count": 3,
   "metadata": {},
   "outputs": [
    {
     "data": {
      "text/plain": [
       "userid           0\n",
       "post             0\n",
       "ques             2\n",
       "ans              3\n",
       "asker            0\n",
       "ans1            42\n",
       "severity1        1\n",
       "bully1       10864\n",
       "ans2            38\n",
       "severity2        0\n",
       "bully2       10967\n",
       "ans3            45\n",
       "severity3        0\n",
       "bully3       10947\n",
       "dtype: int64"
      ]
     },
     "execution_count": 3,
     "metadata": {},
     "output_type": "execute_result"
    }
   ],
   "source": [
    "#check dataset integrity\n",
    "doc.isnull().sum()"
   ]
  },
  {
   "cell_type": "code",
   "execution_count": 4,
   "metadata": {},
   "outputs": [
    {
     "data": {
      "text/plain": [
       "0       11484\n",
       "None      214\n",
       "1         201\n",
       "2         174\n",
       "3         140\n",
       "5         131\n",
       "6         104\n",
       "4          98\n",
       "7          76\n",
       "8          70\n",
       "10         52\n",
       "9          28\n",
       "Name: severity1, dtype: int64"
      ]
     },
     "execution_count": 4,
     "metadata": {},
     "output_type": "execute_result"
    }
   ],
   "source": [
    "#check for bias\n",
    "doc['severity1'].value_counts()"
   ]
  },
  {
   "cell_type": "code",
   "execution_count": 5,
   "metadata": {},
   "outputs": [
    {
     "data": {
      "text/plain": [
       "userid           0\n",
       "post             0\n",
       "ques             2\n",
       "ans              3\n",
       "asker            0\n",
       "ans1             0\n",
       "severity1        0\n",
       "bully1       10864\n",
       "ans2             0\n",
       "severity2        0\n",
       "bully2       10967\n",
       "ans3             0\n",
       "severity3        0\n",
       "bully3       10947\n",
       "dtype: int64"
      ]
     },
     "execution_count": 5,
     "metadata": {},
     "output_type": "execute_result"
    }
   ],
   "source": [
    "#cleaning nulls\n",
    "doc['severity1'].fillna(0,inplace=True)\n",
    "doc['ans1'].fillna('No',inplace=True)\n",
    "doc['ans2'].fillna('No',inplace=True)\n",
    "doc['ans3'].fillna('No',inplace=True)\n",
    "doc['severity1'].replace('None',0,inplace=True)\n",
    "doc['severity2'].replace('None',0,inplace=True)\n",
    "doc['severity2'].replace('o',0,inplace=True)\n",
    "doc['severity2'].replace('0`',0,inplace=True)\n",
    "doc['severity2'].replace('n/a0',0,inplace=True)\n",
    "doc['severity3'].replace('None',0,inplace=True)\n",
    "doc['severity3'].replace('o',inplace=True)\n",
    "doc['severity3'].replace('`0',inplace=True)\n",
    "doc['severity3'].replace('N/a',inplace=True)\n",
    "doc.isnull().sum()"
   ]
  },
  {
   "cell_type": "code",
   "execution_count": 6,
   "metadata": {},
   "outputs": [],
   "source": [
    "dts=[]\n",
    "for index,row in doc.iterrows():\n",
    "    record=[]\n",
    "    record.append(row['post'])\n",
    "    if 'Yes' in [row['ans1'],row['ans2'],row['ans3']]:\n",
    "        record.append(True)\n",
    "    else:\n",
    "        record.append(False)\n",
    "    record.append(max(list(map(int,[row['severity1'],row['severity2'],row['severity3']]))))\n",
    "    dts.append(list(record))"
   ]
  },
  {
   "cell_type": "code",
   "execution_count": 7,
   "metadata": {},
   "outputs": [
    {
     "data": {
      "text/plain": [
       "0"
      ]
     },
     "execution_count": 7,
     "metadata": {},
     "output_type": "execute_result"
    }
   ],
   "source": [
    "dts[5][2]"
   ]
  },
  {
   "cell_type": "code",
   "execution_count": 8,
   "metadata": {},
   "outputs": [],
   "source": [
    "for i in range(len(dts)):\n",
    "    dts[i][0]=BeautifulSoup(dts[i][0]).get_text()\n",
    "    dts[i][0]=dts[i][0].replace('Q:','')\n",
    "    dts[i][0]=dts[i][0].replace('A:','')\n",
    "    dts[i][0]=dts[i][0].lower()"
   ]
  },
  {
   "cell_type": "code",
   "execution_count": 9,
   "metadata": {},
   "outputs": [],
   "source": [
    "#-------------------------------------------------------\n",
    "#End of data cleaning\n",
    "#-------------------------------------------------------"
   ]
  },
  {
   "cell_type": "code",
   "execution_count": 10,
   "metadata": {},
   "outputs": [],
   "source": [
    "ps=PorterStemmer()\n",
    "for i in range(len(dts)):\n",
    "        sentence=dts[i][0]\n",
    "        word_list=word_tokenize(sentence)\n",
    "        stemmed_sentence=[]\n",
    "        for w in word_list:\n",
    "            stemmed_sentence.append(ps.stem(w))\n",
    "        dts[i][0]=' '.join(stemmed_sentence)        "
   ]
  },
  {
   "cell_type": "code",
   "execution_count": 11,
   "metadata": {},
   "outputs": [],
   "source": [
    "#clean stop words using CountVectorizer itself\n",
    "vect=CountVectorizer(stop_words='english',max_features=6000)\n",
    "X=vect.fit_transform(np.array(dts)[:,0]).toarray()"
   ]
  },
  {
   "cell_type": "code",
   "execution_count": 12,
   "metadata": {},
   "outputs": [
    {
     "data": {
      "text/plain": [
       "array([0, 0, 0, ..., 0, 0, 1])"
      ]
     },
     "execution_count": 12,
     "metadata": {},
     "output_type": "execute_result"
    }
   ],
   "source": [
    "y=np.array(dts)[:,1]\n",
    "(y == 'True').astype(int)"
   ]
  },
  {
   "cell_type": "code",
   "execution_count": 13,
   "metadata": {},
   "outputs": [
    {
     "data": {
      "text/plain": [
       "(9579, 6000)"
      ]
     },
     "execution_count": 13,
     "metadata": {},
     "output_type": "execute_result"
    }
   ],
   "source": [
    "X_train,X_test,y_train,y_test=train_test_split(X,y,train_size=0.75,random_state=42)\n",
    "np.shape(X_train)"
   ]
  },
  {
   "cell_type": "code",
   "execution_count": 14,
   "metadata": {},
   "outputs": [
    {
     "data": {
      "text/plain": [
       "MultinomialNB(alpha=1.0, class_prior=None, fit_prior=True)"
      ]
     },
     "execution_count": 14,
     "metadata": {},
     "output_type": "execute_result"
    }
   ],
   "source": [
    "gnb=MultinomialNB()\n",
    "gnb.fit(X_train,y_train)"
   ]
  },
  {
   "cell_type": "code",
   "execution_count": 15,
   "metadata": {},
   "outputs": [],
   "source": [
    "y_pred=gnb.predict(X_test)\n",
    "cm=confusion_matrix(y_test,y_pred)"
   ]
  },
  {
   "cell_type": "code",
   "execution_count": 16,
   "metadata": {},
   "outputs": [
    {
     "name": "stdout",
     "output_type": "stream",
     "text": [
      "[[2492  223]\n",
      " [ 260  219]]\n"
     ]
    }
   ],
   "source": [
    "print(cm)"
   ]
  },
  {
   "cell_type": "code",
   "execution_count": 17,
   "metadata": {},
   "outputs": [
    {
     "name": "stdout",
     "output_type": "stream",
     "text": [
      "              precision    recall  f1-score   support\n",
      "\n",
      "       False       0.91      0.92      0.91      2715\n",
      "        True       0.50      0.46      0.48       479\n",
      "\n",
      "    accuracy                           0.85      3194\n",
      "   macro avg       0.70      0.69      0.69      3194\n",
      "weighted avg       0.84      0.85      0.85      3194\n",
      "\n"
     ]
    }
   ],
   "source": [
    "print(classification_report(y_test,y_pred))"
   ]
  },
  {
   "cell_type": "code",
   "execution_count": 19,
   "metadata": {},
   "outputs": [],
   "source": [
    "with open('vectorizer.pickle','wb') as vec_pic:\n",
    "    pickle.dump(vect,vec_pic)"
   ]
  },
  {
   "cell_type": "code",
   "execution_count": 20,
   "metadata": {},
   "outputs": [],
   "source": [
    "with open('mnb.pickle','wb') as mnb_pic:\n",
    "    pickle.dump(gnb,mnb_pic)"
   ]
  },
  {
   "cell_type": "code",
   "execution_count": null,
   "metadata": {},
   "outputs": [],
   "source": []
  },
  {
   "cell_type": "code",
   "execution_count": null,
   "metadata": {},
   "outputs": [],
   "source": []
  },
  {
   "cell_type": "code",
   "execution_count": null,
   "metadata": {},
   "outputs": [],
   "source": []
  },
  {
   "cell_type": "code",
   "execution_count": null,
   "metadata": {},
   "outputs": [],
   "source": []
  }
 ],
 "metadata": {
  "kernelspec": {
   "display_name": "Python 3.7.4 64-bit ('base': conda)",
   "language": "python",
   "name": "python37464bitbaseconda63be830521044d72a3f978f808bfeb35"
  },
  "language_info": {
   "codemirror_mode": {
    "name": "ipython",
    "version": 3
   },
   "file_extension": ".py",
   "mimetype": "text/x-python",
   "name": "python",
   "nbconvert_exporter": "python",
   "pygments_lexer": "ipython3",
   "version": "3.7.4"
  }
 },
 "nbformat": 4,
 "nbformat_minor": 4
}
